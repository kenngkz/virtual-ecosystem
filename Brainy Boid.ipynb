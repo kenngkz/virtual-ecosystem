{
 "cells": [
  {
   "cell_type": "markdown",
   "metadata": {},
   "source": [
    "# Virtual Environment with Brainy Boids"
   ]
  },
  {
   "cell_type": "markdown",
   "metadata": {},
   "source": [
    "#### Brainy Boid description\n",
    "Brainy Boid can move 1 pixel in any direction every period. It possess a neural network to act as a 'brain' to decide where it will move based on its vision (a square with default radius of 3). Energy is consumed every period (amount depending on whether the boid attempts to move) and the boid will die if energy reaches 0.\n",
    "\n",
    "#### Env\n",
    "Environment is represented by a class with food and boids being a subclass"
   ]
  },
  {
   "cell_type": "code",
   "execution_count": 1,
   "metadata": {},
   "outputs": [],
   "source": [
    "import numpy as np\n",
    "import matplotlib.pyplot as plt\n",
    "import tensorflow as tf\n",
    "from tensorflow import keras\n",
    "import pandas as pd\n",
    "import time\n",
    "import random\n",
    "import sys\n",
    "\n",
    "from math import copysign # used to generate sign of integer (1 or -1)\n",
    "from IPython.display import clear_output # allows jupyter to clear output using code\n",
    "\n",
    "np.set_printoptions(linewidth=500)\n",
    "\n",
    "pd.set_option('display.max_rows', 500)\n",
    "pd.set_option('display.max_columns', 500)\n",
    "\n",
    "np.set_printoptions(threshold=sys.maxsize) # allows jupyter to show full numpy array\n",
    "\n",
    "%matplotlib inline"
   ]
  },
  {
   "cell_type": "markdown",
   "metadata": {},
   "source": [
    "## Environment"
   ]
  },
  {
   "cell_type": "code",
   "execution_count": 2,
   "metadata": {},
   "outputs": [],
   "source": [
    "class Environment:\n",
    "    \n",
    "    def __init__(self, width, height, food_overlap=False, display_size=[7, 7]):\n",
    "        # Env basic parameters\n",
    "        self.width = width\n",
    "        self.height = height\n",
    "        # default values\n",
    "        self.display_size = display_size\n",
    "        self.food_overlap = food_overlap\n",
    "        # env attributes to run functions\n",
    "        self.map = np.zeros((width, height))\n",
    "        self.frame = 0\n",
    "        self.food_locs = []\n",
    "        self.boid_list = []\n",
    "\n",
    "        \n",
    "    def reset_all(self):\n",
    "        self.map = np.zeros((width, height))\n",
    "        self.frame = 0\n",
    "        \n",
    "        \n",
    "    def reset_frames(self):\n",
    "        self.frame = 0\n",
    "        \n",
    "        \n",
    "    def change_display_size(self, size):\n",
    "        self.display_size = size\n",
    "        \n",
    "        \n",
    "    def display_frame(self, delay, print_below=None):\n",
    "        display_array = np.array((self.width, self.height, 3), 240)\n",
    "        \n",
    "        self.frame += 1\n",
    "        \n",
    "        print('Frame: ', self.frame)\n",
    "        fig, ax = plt.subplots(figsize=tuple(self.display_size))\n",
    "        ax.set_axis_off()\n",
    "        ax.matshow(self.map.T, origin='lower')\n",
    "        plt.pause(0.001)\n",
    "        \n",
    "        if print_below != None:\n",
    "            for string in print_below:\n",
    "                print(string)\n",
    "        \n",
    "        time.sleep(delay)\n",
    "        \n",
    "    \n",
    "   ### Food functions\n",
    "    def add_food_random(self, num_food):\n",
    "        food_added = 0\n",
    "        if self.food_overlap:\n",
    "            while food_added < num_food:\n",
    "                new_food_loc = [random.randint(0, self.width - 1), random.randint(0, self.height - 1)]\n",
    "                self.food_locs.append(new_food_loc)\n",
    "                self.map[tuple(new_food_loc)] += 1\n",
    "                food_added += 1\n",
    "        else:\n",
    "            while food_added < num_food:\n",
    "                new_food_loc = [random.randint(0, self.width - 1), random.randint(0, self.height - 1)]\n",
    "                if new_food_loc not in self.food_locs:\n",
    "                    self.food_locs.append(new_food_loc)\n",
    "                    self.map[tuple(new_food_loc)] += 1\n",
    "                    food_added += 1\n",
    "                \n",
    "                \n",
    "    def add_food_loc(self, loc):\n",
    "        # if food overlapping is turned on\n",
    "        if self.food_overlap:\n",
    "            if loc in [boid.loc for boid in self.boid_list]:\n",
    "                print('Invalid location: Boid exists here')\n",
    "            else:\n",
    "                self.food_locs.append(loc)\n",
    "                self.map[tuple(loc)] += 1\n",
    "        # if food overlapping is turned off\n",
    "        else:\n",
    "            if loc in self.food_locs:\n",
    "                print('Invalid location: Food exists here')\n",
    "            elif loc in [boid.loc for boid in self.boid_list]:\n",
    "                print('Invalid location: Boid exists here')\n",
    "            else:\n",
    "                self.food_locs.append(loc)\n",
    "                self.map[tuple(loc)] += 1\n",
    "                \n",
    "        \n",
    "    def remove_food_loc(self, loc):\n",
    "        self.food_locs.remove(loc)\n",
    "        self.map[tuple(loc)] -= 1\n",
    "\n",
    "    \n",
    "   ### Boid functions\n",
    "    # add boid loc to environment's boid_locs list\n",
    "    def add_boid(self, boid):\n",
    "        self.boid_list.append(boid)\n",
    "        self.map[tuple(boid.loc)] += 5\n",
    "        \n",
    "        \n",
    "    # remove boid from environment given the boid\n",
    "    def remove_boid(self, boid):\n",
    "        self.boid_list.remove(boid)\n",
    "        self.map[tuple(boid.loc)] -= 5\n",
    "        \n",
    "        \n",
    "    # remove boid from environment given boid location\n",
    "    def remove_boid_loc(self, loc):\n",
    "        for boid in self.boid_list:\n",
    "            if boid.loc == loc:\n",
    "                self.map[tuple(boid.loc)] -= 5\n",
    "                self.boid_list.remove(boid)\n",
    "                break"
   ]
  },
  {
   "cell_type": "markdown",
   "metadata": {},
   "source": [
    "## Boid"
   ]
  },
  {
   "cell_type": "code",
   "execution_count": 3,
   "metadata": {},
   "outputs": [],
   "source": [
    "class BrainyBoid():\n",
    "    \n",
    "    def __init__(self, boid_env, name, start_loc=None, if_occupied='replace', collision='bump', edge='wall', starting_energy=100):\n",
    "        ### Boid basic parameters\n",
    "        self.boid_env = boid_env   # boid_env is a Environment object\n",
    "        self.name = name\n",
    "        \n",
    "        ## starting location\n",
    "        # if starting location is not specified, it is randomly generated\n",
    "        if start_loc == None:\n",
    "            # if starting location is not empty, new starting location is generated\n",
    "            while True:\n",
    "                self.loc = [random.randint(0, boid_env.width - 1), random.randint(0, boid_env.width - 1)]\n",
    "                if boid_env.map[tuple(self.loc)] == 0:\n",
    "                    break\n",
    "                    \n",
    "        # if it is specified, set location to start_loc and check if location is already occupied\n",
    "        else:\n",
    "            self.loc = start_loc\n",
    "            # check if starting location is occupied\n",
    "            if boid_env.map[tuple(self.loc)] != 0:\n",
    "                # save value of object in the occupied location\n",
    "                occupying_object_val = boid_env.map[tuple(self.loc)]\n",
    "                print('Starting location is occupied: value =', occupying_object_val)\n",
    "                \n",
    "                # generate new random location that is not occupied\n",
    "                if if_occupied == 'random':\n",
    "                    print('New random starting location is being generated')\n",
    "                    while True:\n",
    "                        self.loc = [random.randint(0, boid_env.width - 1), random.randint(0, boid_env.width - 1)]\n",
    "                        if boid_env.map[tuple(self.loc)] == 0:\n",
    "                            break\n",
    "                            \n",
    "                # remove the object in the location\n",
    "                elif if_occupied == 'replace':\n",
    "                    print('Replacing object in location')\n",
    "                    if occupying_object_val == 1:\n",
    "                        boid_env.remove_food_loc(self.loc)\n",
    "                    if occupying_object_val == 5:\n",
    "                        boid_env.remove_boid_loc(self.loc)\n",
    "                    \n",
    "        # add new boid to environment\n",
    "        boid_env.add_boid(self)\n",
    "        \n",
    "        ### Default values\n",
    "        self.collision = collision\n",
    "        self.edge = edge\n",
    "        self.if_occupied = if_occupied\n",
    "        \n",
    "        ### Boid attr to run functions\n",
    "        self.food_eaten = 0   # total food eaten across lifetime\n",
    "        self.energy = starting_energy   # default 100\n",
    "        self.status = 'alive'\n",
    "        self.age = 0   # number of periods this boid has stayed alive\n",
    "        \n",
    "        \n",
    "   ### Location Functions\n",
    "    def set_loc(self, loc):\n",
    "        new_loc_val = self.boid_env.map[tuple(loc)]\n",
    "        if new_loc_val != 0:\n",
    "            print('Specified location is occupied: value =', new_loc_val)\n",
    "            if self.if_occupied == 'replace':\n",
    "                # remove existing object in specified location\n",
    "                if new_loc_val == 1:\n",
    "                    self.boid_env.remove_food_loc(loc)\n",
    "                if new_loc_val == 5:\n",
    "                    self.boid_env.remove_boid_loc(loc)\n",
    "                # then add boid in that location\n",
    "                self.boid_env.map[tuple(self.loc)] -= 5\n",
    "                self.loc = loc\n",
    "                self.boid_env.map[tuple(loc)] += 5\n",
    "            else:\n",
    "                print('Please specify new location')\n",
    "        # if new location is unoccupied\n",
    "        else:\n",
    "            self.boid_env.map[tuple(self.loc)] -= 5\n",
    "            self.loc = loc\n",
    "            self.boid_env.map[tuple(loc)] += 5\n",
    "            \n",
    "    def info(self):\n",
    "        name = 'Boid Name: ' + str(self.name)\n",
    "        location = 'Location: ' + str(self.loc)\n",
    "        energy = 'Energy: ' + str(self.energy)\n",
    "        age = 'Age: ' + str(self.age)\n",
    "        food_eaten = 'Food Eaten: ' + str(self.food_eaten)\n",
    "        status = 'Status: ' + str(self.status)\n",
    "        return '  '.join([name, location, energy, age, food_eaten, status])"
   ]
  },
  {
   "cell_type": "markdown",
   "metadata": {},
   "source": [
    "#### Check Environment and BrainyBoid Works"
   ]
  },
  {
   "cell_type": "code",
   "execution_count": 5,
   "metadata": {},
   "outputs": [
    {
     "name": "stdout",
     "output_type": "stream",
     "text": [
      "Frame:  11\n"
     ]
    },
    {
     "data": {
      "image/png": "[encoded data removed]",
      "text/plain": [
       "<Figure size 504x504 with 1 Axes>"
      ]
     },
     "metadata": {
      "needs_background": "light"
     },
     "output_type": "display_data"
    }
   ],
   "source": [
    "# Test __init__(), add_food_random(), and display_frame()\n",
    "env = Environment(40, 40)\n",
    "env.display_frame(2)\n",
    "clear_output(wait=True)\n",
    "for _ in range(10):\n",
    "    env.add_food_random(1)\n",
    "    env.display_frame(0.5)\n",
    "    clear_output(wait=True)"
   ]
  },
  {
   "cell_type": "code",
   "execution_count": 62,
   "metadata": {},
   "outputs": [
    {
     "name": "stdout",
     "output_type": "stream",
     "text": [
      "Frame:  6\n"
     ]
    },
    {
     "data": {
      "image/png": "[encoded data removed]",
      "text/plain": [
       "<Figure size 504x504 with 1 Axes>"
      ]
     },
     "metadata": {
      "needs_background": "light"
     },
     "output_type": "display_data"
    }
   ],
   "source": [
    "# Test add_food_loc\n",
    "env = Environment(40, 40)\n",
    "\n",
    "food_locations = [[10, x] for x in range(5, 10)]\n",
    "print('Number of food to add: ', len(food_locations))\n",
    "\n",
    "env.display_frame(2)\n",
    "clear_output(wait=True)\n",
    "\n",
    "for food_coor in food_locations:\n",
    "    env.add_food_loc(food_coor)\n",
    "    env.display_frame(0.5)\n",
    "    clear_output(wait=True)"
   ]
  },
  {
   "cell_type": "code",
   "execution_count": 6,
   "metadata": {},
   "outputs": [
    {
     "name": "stdout",
     "output_type": "stream",
     "text": [
      "Remove Boid\n",
      "Frame:  5\n"
     ]
    },
    {
     "data": {
      "image/png": "[encoded data removed]",
      "text/plain": [
       "<Figure size 504x504 with 1 Axes>"
      ]
     },
     "metadata": {
      "needs_background": "light"
     },
     "output_type": "display_data"
    }
   ],
   "source": [
    "# Test boid __init__() and set_loc()\n",
    "env = Environment(40, 40)\n",
    "frame_speed = 1.5\n",
    "\n",
    "# Environment\n",
    "print('Empty Environment')\n",
    "env.display_frame(frame_speed*2)\n",
    "clear_output(wait=True)\n",
    "\n",
    "env.add_food_random(10)\n",
    "\n",
    "print('Environment with Food')\n",
    "env.display_frame(frame_speed)\n",
    "clear_output(wait=True)\n",
    "\n",
    "# Boid\n",
    "boid1 = BrainyBoid(env, 'boid1')\n",
    "\n",
    "print('Initialise Boid')\n",
    "print(boid1.info())\n",
    "env.display_frame(frame_speed)\n",
    "clear_output(wait=True)\n",
    "\n",
    "\n",
    "# set location of boid\n",
    "new_loc = [10, 10]\n",
    "boid1.set_loc(new_loc)\n",
    "\n",
    "print('Set Location to', new_loc)\n",
    "print(boid1.info())\n",
    "env.display_frame(frame_speed)\n",
    "clear_output(wait=True)\n",
    "\n",
    "\n",
    "# remove boid\n",
    "env.remove_boid(boid1)\n",
    "\n",
    "print('Remove Boid')\n",
    "env.display_frame(frame_speed)\n"
   ]
  },
  {
   "cell_type": "markdown",
   "metadata": {},
   "source": [
    "### Test"
   ]
  },
  {
   "cell_type": "code",
   "execution_count": 47,
   "metadata": {},
   "outputs": [
    {
     "name": "stdout",
     "output_type": "stream",
     "text": [
      "Parent1 child:  child1\n",
      "Parent1 child:  child2\n"
     ]
    }
   ],
   "source": [
    "class Parent():\n",
    "    \n",
    "    def __init__(self):\n",
    "        self.attr = 15\n",
    "        self.children = []\n",
    "    \n",
    "    def change_attr(self, num):\n",
    "        self.attr = num\n",
    "        \n",
    "    def print_something(self):\n",
    "        print('something')\n",
    "        \n",
    "    def add_child(self, child):\n",
    "        self.children.append(child)\n",
    "        \n",
    "        \n",
    "class Child():\n",
    "    \n",
    "    def __init__(self, name, parent):\n",
    "        self.name = name\n",
    "        self.parents = [parent]\n",
    "        parent.add_child(self)\n",
    "        \n",
    "\n",
    "    def add_parent(self, parent):\n",
    "        self.parents.append(parent)\n",
    "        \n",
    "    def change_par_attr(self,num):\n",
    "        self.par.attr = num\n",
    "        \n",
    "    \n",
    "    \n",
    "    \n",
    "        \n",
    "parent1 = Parent()\n",
    "child1 = Child('child1', parent1)\n",
    "child2 = Child('child2', parent1)\n",
    "\n",
    "for child in parent1.children:\n",
    "    print('Parent1 child: ', child.name)\n",
    "\n"
   ]
  },
  {
   "cell_type": "code",
   "execution_count": 48,
   "metadata": {},
   "outputs": [
    {
     "name": "stdout",
     "output_type": "stream",
     "text": [
      "Parent1 child:  child1\n",
      "Parent1 child:  child2\n",
      "Parent1 child:  child3\n",
      "Parent1 child:  child4\n"
     ]
    }
   ],
   "source": [
    "child3 = Child('child3', parent1)\n",
    "child4 = Child('child4', parent1)\n",
    "\n",
    "for child in parent1.children:\n",
    "    print('Parent1 child: ', child.name)"
   ]
  },
  {
   "cell_type": "markdown",
   "metadata": {},
   "source": [
    "## Manual Brain Test"
   ]
  },
  {
   "cell_type": "code",
   "execution_count": null,
   "metadata": {},
   "outputs": [],
   "source": []
  },
  {
   "cell_type": "markdown",
   "metadata": {},
   "source": [
    "## Test to generate image"
   ]
  },
  {
   "cell_type": "code",
   "execution_count": 34,
   "metadata": {},
   "outputs": [
    {
     "data": {
      "image/png": "[encoded data removed]",
      "text/plain": [
       "<Figure size 504x504 with 1 Axes>"
      ]
     },
     "metadata": {
      "needs_background": "light"
     },
     "output_type": "display_data"
    }
   ],
   "source": [
    "from PIL import Image\n",
    "\n",
    "test_array = np.zeros((50, 50, 3), dtype=np.uint8)\n",
    "test_array.fill(240)\n",
    "red_rgb = [255, 0, 0]\n",
    "green_rgb = [0, 255, 0]\n",
    "blue_rgb = [0, 0, 255]\n",
    "test_array[0, 0] = red_rgb\n",
    "test_array[15, 10] = blue_rgb\n",
    "test_array[20, 10] = green_rgb\n",
    "\n",
    "img = Image.fromarray(test_array, 'RGB')\n",
    "\n",
    "\n",
    "#fig = plt.imshow(np.asarray(img_resized))\n",
    "\n",
    "fig, ax = plt.subplots(figsize=(7, 7))\n",
    "ax.set_axis_off()\n",
    "ax.imshow(np.asarray(img))\n",
    "plt.pause(0.001)"
   ]
  },
  {
   "cell_type": "code",
   "execution_count": 40,
   "metadata": {},
   "outputs": [
    {
     "name": "stdout",
     "output_type": "stream",
     "text": [
      "(40, 40, 3)\n"
     ]
    }
   ],
   "source": [
    "display_array = np.full_like(np.zeros((40, 40, 3)), 240)\n",
    "print(display_array.shape)"
   ]
  },
  {
   "cell_type": "code",
   "execution_count": null,
   "metadata": {},
   "outputs": [],
   "source": []
  }
 ],
 "metadata": {
  "kernelspec": {
   "display_name": "tensor",
   "language": "python",
   "name": "tensor"
  },
  "language_info": {
   "codemirror_mode": {
    "name": "ipython",
    "version": 3
   },
   "file_extension": ".py",
   "mimetype": "text/x-python",
   "name": "python",
   "nbconvert_exporter": "python",
   "pygments_lexer": "ipython3",
   "version": "3.6.12"
  }
 },
 "nbformat": 4,
 "nbformat_minor": 4
}
