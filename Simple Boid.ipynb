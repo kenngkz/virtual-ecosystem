{
 "cells": [
  {
   "cell_type": "markdown",
   "metadata": {},
   "source": [
    "# Virtual Ecosystem with Simple Boids"
   ]
  },
  {
   "cell_type": "markdown",
   "metadata": {},
   "source": [
    "#### Simple Boid description\n",
    "This boid can move 1 box each period, either horizontally, vertically or diagonally. When the boid moves to a location where there is food, the boid will eat the food, increasing the boid's energy. If the boid runs out of energy, the boid will stop moving. Simple Boid does not have a brain/path-finding algorithm, hence it can only move when movement coordinates are specified. \n",
    "\n",
    "When the boid passes over the env boundaries, there are 2 possible ways to adjust the boid location such that the boid remains within the env bounds. The default method is loop, where the boid teleports to the opposite side of the env. The other method ('wall') prevents the boid from moving off the env limits, and consumes energy as if the boid was moving\n",
    "\n",
    "When a simple boid collides with another simple boid, the first boid will not move and consumes energy as if it had moved ('bump' collision). \n",
    "\n",
    "#### Env\n",
    "Environment is represented by a numpy array. 0 represents an empty spot, 1 represents food, 5 represents a boid.\n"
   ]
  },
  {
   "cell_type": "code",
   "execution_count": 1,
   "metadata": {},
   "outputs": [],
   "source": [
    "import numpy as np\n",
    "import matplotlib.pyplot as plt\n",
    "import pandas as pd\n",
    "import time\n",
    "import random\n",
    "import sys\n",
    "\n",
    "from math import copysign # used to generate sign of integer (1 or -1)\n",
    "from IPython.display import clear_output # allows jupyter to clear output using code\n",
    "\n",
    "np.set_printoptions(linewidth=500)\n",
    "\n",
    "pd.set_option('display.max_rows', 500)\n",
    "pd.set_option('display.max_columns', 500)\n",
    "\n",
    "np.set_printoptions(threshold=sys.maxsize) # allows jupyter to show full numpy array\n",
    "\n",
    "%matplotlib inline"
   ]
  },
  {
   "cell_type": "markdown",
   "metadata": {},
   "source": [
    "## Essential Functions"
   ]
  },
  {
   "cell_type": "code",
   "execution_count": 2,
   "metadata": {},
   "outputs": [],
   "source": [
    "# Function to create empty environment\n",
    "def create_env(width, height):\n",
    "    return np.zeros((width, height))"
   ]
  },
  {
   "cell_type": "code",
   "execution_count": 3,
   "metadata": {},
   "outputs": [],
   "source": [
    "# Function to display environment frame by frame\n",
    "# includes option to display frame counter to observe amount of time passed\n",
    "# any text to be shown below frame must be passed into this function (this function is the last thing in the loop) \n",
    "\n",
    "def display_env_frame(env, delay, str_below=None, display_size = [7, 7]): # delay is the number of seconds previous frame stays visible\n",
    "    # print frame counter\n",
    "    try:\n",
    "        global frame_num\n",
    "        frame_num += 1\n",
    "        print('Frame number: ', frame_num)\n",
    "    except:\n",
    "        pass\n",
    "    \n",
    "    # display frame\n",
    "    fig, ax = plt.subplots(figsize=(display_size[0], display_size[1]))\n",
    "    ax.set_axis_off()\n",
    "    ax.matshow(env.T, origin='lower')\n",
    "    plt.pause(0.001)\n",
    "    \n",
    "    # print string below if str_below is string\n",
    "    if type(str_below) == str:\n",
    "        print(str_below)\n",
    "    \n",
    "    # wait\n",
    "    time.sleep(delay)\n",
    "    \n",
    "    return str_below\n"
   ]
  },
  {
   "cell_type": "code",
   "execution_count": 4,
   "metadata": {},
   "outputs": [],
   "source": [
    "# Function to clear output (doesn't seem to work with Jupyter Notebook, might work with console)\n",
    "from os import system, name \n",
    "  \n",
    "# import sleep to show output for some time period \n",
    "from time import sleep \n",
    "  \n",
    "# define our clear function \n",
    "def clear(): \n",
    "  \n",
    "    # for windows \n",
    "    if name == 'nt': \n",
    "        _ = system('cls') \n",
    "  \n",
    "    # for mac and linux(here, os.name is 'posix') \n",
    "    else: \n",
    "        _ = system('clear')"
   ]
  },
  {
   "cell_type": "markdown",
   "metadata": {},
   "source": [
    "## Setting up Environment with Food"
   ]
  },
  {
   "cell_type": "code",
   "execution_count": 6,
   "metadata": {
    "lineWrapping": false
   },
   "outputs": [
    {
     "data": {
      "image/png": "[encoded data removed]",
      "text/plain": [
       "<Figure size 504x504 with 1 Axes>"
      ]
     },
     "metadata": {
      "needs_background": "light"
     },
     "output_type": "display_data"
    }
   ],
   "source": [
    "# Visualize adding food randomly to environment\n",
    "# food represented by 1 in env array\n",
    "\n",
    "# variables\n",
    "env_width = 40\n",
    "env_height = 40\n",
    "frame_delay = 0.3 # time between frames\n",
    "num_food = 10\n",
    "food_value = 1\n",
    "\n",
    "# initilize environment\n",
    "env = create_env(env_width, env_height)\n",
    "# display initial state of env\n",
    "display_env_frame(env, frame_delay)\n",
    "clear_output(wait=True)\n",
    "\n",
    "# generate food in iterations and displays the food being added to env\n",
    "while np.sum(env) / food_value < num_food:\n",
    "    food_x_coor = random.randint(0, env_width - 1)\n",
    "    food_y_coor = random.randint(0, env_height - 1)\n",
    "    if env[food_x_coor][food_y_coor] == 0:\n",
    "        env[food_x_coor][food_y_coor] = food_value\n",
    "    else:\n",
    "        continue\n",
    "    display_env_frame(env, frame_delay)\n",
    "    clear_output(wait=True)"
   ]
  },
  {
   "cell_type": "code",
   "execution_count": 7,
   "metadata": {},
   "outputs": [],
   "source": [
    "# Function to add food to environment without displaying environment\n",
    "def add_food(env, num_food, food_value=1):\n",
    "    food_counter = 0\n",
    "    while food_counter < num_food:\n",
    "        food_x_coor = random.randint(0, env_width - 1)\n",
    "        food_y_coor = random.randint(0, env_height - 1)\n",
    "        if env[food_x_coor][food_y_coor] == 0:\n",
    "            env[food_x_coor][food_y_coor] = food_value\n",
    "            food_counter += 1\n",
    "        else:\n",
    "            continue\n",
    "    return env"
   ]
  },
  {
   "cell_type": "markdown",
   "metadata": {},
   "source": [
    "## Creating A Boid"
   ]
  },
  {
   "cell_type": "code",
   "execution_count": 36,
   "metadata": {},
   "outputs": [],
   "source": [
    "# Animal: Boid\n",
    "class SimpleBoid:\n",
    "    \n",
    "    def __init__(self, name_, collision_='bump', edge_='loop'):\n",
    "        self.name_ = name_ # set a name == var name\n",
    "        self.location_ = [random.randint(0, env.shape[0] - 1), random.randint(0, env.shape[1] - 1)]\n",
    "        self.energy_ = 100\n",
    "        self.collision_= collision_\n",
    "        self.edge_ = edge_\n",
    "        self.death_msg_ = str(self.name_) + ' has died!'\n",
    "        self.food_eaten_ = 0\n",
    "        # mark boid starting location in env\n",
    "        env[self.location_[0], self.location_[1]] = 5\n",
    "        \n",
    "    def set_location(self, x_coor, y_coor):\n",
    "        env[self.location_[0], self.location_[1]] = 0\n",
    "        self.location_ = [x_coor, y_coor]\n",
    "        env[self.location_[0], self.location_[1]] = 5\n",
    "    \n",
    "    \n",
    "    # checks if boid location exceeds env limits\n",
    "    def check_edge(self):\n",
    "        if self.edge_ == 'loop':\n",
    "            self.location_ = env_edge_loop(self.location_)\n",
    "        elif self.edge_ == 'wall':\n",
    "            self.location_ = env_edge_wall(self.location_)\n",
    "    \n",
    "    \n",
    "    # move 1 step in any direction (including diagonally), check edge, check food, check collision\n",
    "    def simple_move(self, x_move, y_move):\n",
    "        # move boid\n",
    "        self.location_[0] += int(x_move)\n",
    "        self.location_[1] += int(y_move)\n",
    "        \n",
    "        # check if passed edge\n",
    "        self.check_edge()\n",
    "\n",
    "        # bump collision\n",
    "        if self.collision_ == 'bump':\n",
    "            # check if there is a boid in target location\n",
    "            if env[self.location_[0], self.location_[1]] == 5:\n",
    "                # reverse movement\n",
    "                self.location_[0] -= int(x_move)\n",
    "                self.location_[1] -= int(y_move)\n",
    "                # check edge\n",
    "                self.check_edge()\n",
    "                \n",
    "        # food check\n",
    "        if env[self.location_[0], self.location_[1]] == 1:\n",
    "            self.eat()\n",
    "            \n",
    "            \n",
    "    # move 1 step in any direction (including diagonally), edit env, update energy\n",
    "    def move(self, x_move, y_move):\n",
    "        # if boid is dead, dont move\n",
    "        if self.name_ == 'dead':\n",
    "            return\n",
    "        \n",
    "        # delete initial position of boid\n",
    "        env[self.location_[0], self.location_[1]] = 0\n",
    "        \n",
    "        # energy cost when moving/not moving\n",
    "        if x_move == 0 and y_move == 0:\n",
    "            self.energy_change(-1)\n",
    "        else:\n",
    "            self.energy_change(-2)\n",
    "        \n",
    "        # move boid 1 step (and check if food is on target coor)\n",
    "        self.simple_move(x_move, y_move)\n",
    "        \n",
    "        # mark new position if not dead\n",
    "        if self.name_ != 'dead':\n",
    "            env[self.location_[0], self.location_[1]] += 5\n",
    "        \n",
    "    \n",
    "    def eat(self):\n",
    "        env[self.location_[0], self.location_[1]] -= 1\n",
    "        self.energy_ += 20\n",
    "        self.food_eaten_ += 1\n",
    "        \n",
    "        \n",
    "    def die(self):\n",
    "        # delete boid from env\n",
    "        env[self.location_[0], self.location_[1]] = 0\n",
    "        # print death alert\n",
    "        print(self.death_msg_)\n",
    "        self.name_ = 'dead'\n",
    "        self.energy_ = 0\n",
    "    \n",
    "    \n",
    "    def energy_change(self, energy_amount):\n",
    "        self.energy_ += energy_amount\n",
    "        # check if energy has run out, if no energy then boid dies \n",
    "        if self.energy_ <= 0:\n",
    "            self.die()\n",
    "    \n",
    "    def display_info(self):\n",
    "        name_str = str(self.name_) + ': '\n",
    "        energy_str = 'Energy-' + str(self.energy_) + ' '\n",
    "        food_str = 'Food-' + str(self.food_eaten_)\n",
    "        return name_str + energy_str + food_str\n",
    "    \n",
    "    '''\n",
    "    # check status after every period before display\n",
    "    def check_status(self):\n",
    "        # if 2 boid stand on the same pixel, both boids will die\n",
    "        if env[self.location_[0], self.location_[1]] > 5:\n",
    "            self.die()\n",
    "    '''"
   ]
  },
  {
   "cell_type": "code",
   "execution_count": 32,
   "metadata": {},
   "outputs": [],
   "source": [
    "# Important functions used by boid \n",
    "\n",
    "def env_edge_loop(ini_loc):  # ini_loc is initial location\n",
    "    # env limits\n",
    "    max_env_coor = [env.shape[0], env.shape[1]]\n",
    "        \n",
    "    # check if location of boid and loop if boid exceeds env limits\n",
    "    for index in [0, 1]:\n",
    "        if ini_loc[index] == max_env_coor[index]:\n",
    "            ini_loc[index] = 0\n",
    "        elif ini_loc[index] == -1:\n",
    "            ini_loc[index] = max_env_coor[index] - 1\n",
    "\n",
    "    # returns new coordinates adjusted for env edges\n",
    "    return ini_loc\n",
    "    \n",
    "\n",
    "def env_edge_wall(ini_loc):\n",
    "    # env limits\n",
    "    max_env_coor = [env.shape[0], env.shape[1]]\n",
    "    \n",
    "    # location check\n",
    "    for index in [0, 1]:\n",
    "        if ini_loc[index] == max_env_coor[index]:\n",
    "            ini_loc[index] -= 1\n",
    "        elif ini_loc[index] == -1:\n",
    "            ini_loc[index] += 1\n",
    "    \n",
    "    \n",
    "    # return new coordinates adjusted for edges\n",
    "    return ini_loc"
   ]
  },
  {
   "cell_type": "markdown",
   "metadata": {},
   "source": [
    "## Checks"
   ]
  },
  {
   "cell_type": "code",
   "execution_count": 29,
   "metadata": {},
   "outputs": [
    {
     "name": "stdout",
     "output_type": "stream",
     "text": [
      "Before [30, 30]\n",
      "Before [30, 30]\n",
      "Movement coor: [1, 1]\n",
      "Frame number:  55\n"
     ]
    },
    {
     "data": {
      "image/png": "[encoded data removed]",
      "text/plain": [
       "<Figure size 504x504 with 1 Axes>"
      ]
     },
     "metadata": {
      "needs_background": "light"
     },
     "output_type": "display_data"
    }
   ],
   "source": [
    "# Movement checks\n",
    "\n",
    "# reset env\n",
    "frame_num = 0\n",
    "env_width = env_height = 40\n",
    "env = create_env(env_width, env_height)\n",
    "\n",
    "x_coor = y_coor = range(-1, 2)\n",
    "movement_coor = []\n",
    "for x in x_coor:\n",
    "    for y in y_coor:\n",
    "        movement_coor.append([x, y])\n",
    "\n",
    "# initialize boid\n",
    "boid2 = SimpleBoid('boid2')\n",
    "# set boid attr\n",
    "boid2.energy_ = 1000\n",
    "boid2.set_location(30, 30)\n",
    "display_env_frame(env, 3)\n",
    "clear_output(wait=True)\n",
    "\n",
    "for coor in movement_coor:\n",
    "    for _ in range(6):\n",
    "        boid2.move(coor[0], coor[1])\n",
    "        display_above = 'Movement coor: ' + str(coor)\n",
    "        print(display_above)\n",
    "        display_env_frame(env, 0.3)\n",
    "        clear_output(wait=True)\n",
    "        if boid2.name_ == 'dead':\n",
    "            break\n",
    "    if boid2.name_ == 'dead':\n",
    "        break"
   ]
  },
  {
   "cell_type": "code",
   "execution_count": null,
   "metadata": {
    "collapsed": true
   },
   "outputs": [],
   "source": [
    "# Collision check\n",
    "frame_num = 0\n",
    "env = create_env(20, 20)\n",
    "display_size = [5, 5]\n",
    "\n",
    "boid1 = SimpleBoid('boid1')\n",
    "boid2 = SimpleBoid('boid2')\n",
    "boid3 = SimpleBoid('boid3')\n",
    "\n",
    "boid1.set_location(10, 10)\n",
    "boid2.set_location(10,14)\n",
    "boid3.set_location(5, 5)\n",
    "\n",
    "display_env_frame(env, 3, display_size=display_size)\n",
    "clear_output(wait=True)\n",
    "\n",
    "for _ in range(8):\n",
    "    boid1.move(0, 0)\n",
    "    boid2.move(0, -1)\n",
    "    display_env_frame(env, 1, display_size=display_size)\n",
    "    clear_output(wait=True)"
   ]
  },
  {
   "cell_type": "code",
   "execution_count": 33,
   "metadata": {},
   "outputs": [
    {
     "name": "stdout",
     "output_type": "stream",
     "text": [
      "Before [10, 4]\n",
      "Before [10, 4]\n",
      "boid2: Energy-84 Food-0\n",
      "Frame number:  9\n"
     ]
    },
    {
     "data": {
      "image/png": "[encoded data removed]",
      "text/plain": [
       "<Figure size 360x360 with 1 Axes>"
      ]
     },
     "metadata": {
      "needs_background": "light"
     },
     "output_type": "display_data"
    }
   ],
   "source": [
    "# Edge check\n",
    "frame_num = 0\n",
    "env = create_env(20, 20)\n",
    "display_size = [5, 5]\n",
    "\n",
    "boid1 = SimpleBoid('boid1')\n",
    "boid2 = SimpleBoid('boid2', edge_='wall')\n",
    "boid1.set_location(10, 16)\n",
    "boid2.set_location(4, 5)\n",
    "\n",
    "display_env_frame(env, 3, display_size=display_size)\n",
    "clear_output(wait=True)\n",
    "\n",
    "for _ in range(8):\n",
    "    boid1.move(0, 1)\n",
    "    boid2.move(-1, 0)\n",
    "    print(boid2.display_info())\n",
    "    display_env_frame(env, 1, display_size=display_size)\n",
    "    clear_output(wait=True)"
   ]
  },
  {
   "cell_type": "markdown",
   "metadata": {},
   "source": [
    "## Make a Boid Move Randomly in Environment with Food"
   ]
  },
  {
   "cell_type": "code",
   "execution_count": 10,
   "metadata": {},
   "outputs": [],
   "source": [
    "# Define function for boid to move randomly in a similar pattern as 'move_random()'\n",
    "# this functions makes the boid move 1 step\n",
    "# previous path takes priority, if no path is available (num_steps = 0), then new path is generated\n",
    "\n",
    "# path = [x_direction, y_direction, path_num_steps]\n",
    "\n",
    "def move_random_path(boid, path, display=True, max_num_steps=5, delay=1):\n",
    "    if path == None:\n",
    "        return None\n",
    "    \n",
    "    if path[2] == 0:\n",
    "        x_direction = random.randint(-1, 1)\n",
    "        y_direction = random.randint(-1, 1)\n",
    "        num_steps = random.randint(1 , max_num_steps)\n",
    "        path = [x_direction, y_direction, num_steps]\n",
    "        \n",
    "    boid.move(path[0], path[1])\n",
    "    if boid.name_ == 'dead':\n",
    "        return None\n",
    "    \n",
    "    path[2] -= 1\n",
    "    if display:\n",
    "        display_above = 'Direction: ' + str([path[0], path[1]]) + '\\nSteps Remaining: ' + str(path[2]) + '\\nBoid Energy: ' + str(boid.energy_)\n",
    "        print(display_above)\n",
    "    \n",
    "    return path"
   ]
  },
  {
   "cell_type": "code",
   "execution_count": 11,
   "metadata": {},
   "outputs": [
    {
     "name": "stdout",
     "output_type": "stream",
     "text": [
      "boid1 has died!\n",
      "Frame number:  54\n"
     ]
    },
    {
     "data": {
      "image/png": "[encoded data removed]",
      "text/plain": [
       "<Figure size 504x504 with 1 Axes>"
      ]
     },
     "metadata": {
      "needs_background": "light"
     },
     "output_type": "display_data"
    }
   ],
   "source": [
    "# variables\n",
    "env_width = env_height = 40\n",
    "frame_num = 0 # frame counter\n",
    "frame_delay = 0.7\n",
    "max_steps = 3 # max steps in any 1 direction\n",
    "max_periods = 100 # max number of periods\n",
    "num_food = 20\n",
    "path = [0, 0, 0] # starting path (do not change)\n",
    "\n",
    "# initialize env\n",
    "env = create_env(env_width, env_height)\n",
    "\n",
    "# add food\n",
    "env = add_food(env, num_food)\n",
    "\n",
    "# initialize boid\n",
    "boid1 = SimpleBoid('boid1')\n",
    "\n",
    "# display boid and food\n",
    "print('Boid Energy: ' + str(boid1.energy_))\n",
    "display_env_frame(env, 2)\n",
    "clear_output(wait=True)\n",
    "\n",
    "while frame_num < max_periods:\n",
    "    \n",
    "    if frame_num % 20 == 0:\n",
    "        env = add_food(env, num_food)\n",
    "    path = move_random_path(boid1, path)\n",
    "    display_env_frame(env, frame_delay)\n",
    "    if boid1.name_ == 'dead':\n",
    "        break\n",
    "    clear_output(wait=True)"
   ]
  },
  {
   "cell_type": "markdown",
   "metadata": {},
   "source": [
    "## Multiple Boids Moving Randomly in Environment with Food"
   ]
  },
  {
   "cell_type": "code",
   "execution_count": 44,
   "metadata": {},
   "outputs": [
    {
     "name": "stdout",
     "output_type": "stream",
     "text": [
      "dead: Energy-0 Food-0\n",
      "dead: Energy--1 Food-3\n",
      "boid3: Energy-51 Food-7\n",
      "dead: Energy-0 Food-2\n",
      "dead: Energy--1 Food-0\n",
      "Frame number:  100\n"
     ]
    },
    {
     "data": {
      "image/png": "[encoded data removed]",
      "text/plain": [
       "<Figure size 504x504 with 1 Axes>"
      ]
     },
     "metadata": {
      "needs_background": "light"
     },
     "output_type": "display_data"
    }
   ],
   "source": [
    "# variables\n",
    "env_width = env_height = 40\n",
    "frame_num = 0 # frame counter\n",
    "frame_delay = 0.8\n",
    "max_steps = 3 # max steps in any 1 direction\n",
    "max_periods = 100 # max number of periods\n",
    "num_food = 20\n",
    "num_boids = 5\n",
    "paths = [[0, 0, 0] for _ in range(num_boids)] # starting path (do not change)\n",
    "order_list = [x for x in range(num_boids)]  # index list to synchronize shuffling\n",
    "random.shuffle(order_list)\n",
    "\n",
    "# initialize env\n",
    "env = create_env(env_width, env_height)\n",
    "\n",
    "# add food\n",
    "env = add_food(env, num_food)\n",
    "\n",
    "# initialize boids\n",
    "boids = [SimpleBoid('boid' + str(x), edge_='wall') for x in range(1, num_boids+1)]\n",
    "\n",
    "# display boids and food\n",
    "for boid in boids:\n",
    "    print(boid.display_info())\n",
    "\n",
    "display_env_frame(env, 3)\n",
    "clear_output(wait=True)\n",
    "\n",
    "while frame_num < max_periods:\n",
    "    # add food every 10 periods\n",
    "    if frame_num % 10 == 0:\n",
    "        env = add_food(env, num_food/2)\n",
    "    \n",
    "    # shuffle order or boid movement\n",
    "    random.shuffle(order_list)\n",
    "    new_paths = [move_random_path(boids[x], paths[x], display=False) for x in order_list]\n",
    "    for x in range(num_boids):\n",
    "        paths[order_list[x]] = new_paths[x]\n",
    "    \n",
    "    # print boids and env\n",
    "    for index in range(num_boids):\n",
    "        print(boids[index].display_info())\n",
    "    display_env_frame(env, frame_delay)\n",
    "    \n",
    "    # exit loop if all boids die\n",
    "    if all([path == None for path in paths]):\n",
    "        break\n",
    "    clear_output(wait=True)"
   ]
  },
  {
   "cell_type": "markdown",
   "metadata": {},
   "source": [
    "## Creating a Boid with a Brain"
   ]
  },
  {
   "cell_type": "code",
   "execution_count": 36,
   "metadata": {},
   "outputs": [],
   "source": [
    "# Animal: Boid with neural network to make decisions on movement\n",
    "class BrainyBoid:\n",
    "    \n",
    "    def __init__(self, name_, collision_='bump', edge_='loop'):\n",
    "        # set a name == var name\n",
    "        self.name_ = name_ \n",
    "        \n",
    "        # generate random location and mark on env\n",
    "        self.location_ = [random.randint(0, env.shape[0] - 1), random.randint(0, env.shape[1] - 1)]\n",
    "        env[self.location_[0], self.location_[1]] = 5\n",
    "        \n",
    "        # class attr determining methods\n",
    "        self.collision_= collision_\n",
    "        self.edge_ = edge_\n",
    "        \n",
    "        # class attr as records\n",
    "        self.energy_ = 100\n",
    "        self.food_eaten_ = 0\n",
    "        self.status_ = 'alive'\n",
    "        \n",
    "        # boid brain\n",
    "        self.brain = \n",
    "        \n",
    "    ### location based functions\n",
    "    def set_location(self, x_coor, y_coor):\n",
    "        env[self.location_[0], self.location_[1]] = 0\n",
    "        self.location_ = [x_coor, y_coor]\n",
    "        env[self.location_[0], self.location_[1]] = 5\n",
    "    \n",
    "    \n",
    "    # checks if boid location exceeds env limits\n",
    "    def check_edge(self):\n",
    "        if self.edge_ == 'loop':\n",
    "            self.location_ = env_edge_loop(self.location_)\n",
    "        elif self.edge_ == 'wall':\n",
    "            self.location_ = env_edge_wall(self.location_)\n",
    "    \n",
    "    \n",
    "    # move 1 step in any direction (including diagonally), check edge, check food, check collision\n",
    "    def simple_move(self, x_move, y_move):\n",
    "        # move boid\n",
    "        self.location_[0] += int(x_move)\n",
    "        self.location_[1] += int(y_move)\n",
    "        \n",
    "        # check if passed edge\n",
    "        self.check_edge()\n",
    "\n",
    "        # bump collision\n",
    "        if self.collision_ == 'bump':\n",
    "            # check if there is a boid in target location\n",
    "            if env[self.location_[0], self.location_[1]] == 5:\n",
    "                # reverse movement\n",
    "                self.location_[0] -= int(x_move)\n",
    "                self.location_[1] -= int(y_move)\n",
    "                # check edge\n",
    "                self.check_edge()\n",
    "                \n",
    "        # food check\n",
    "        if env[self.location_[0], self.location_[1]] == 1:\n",
    "            self.eat()\n",
    "            \n",
    "            \n",
    "    # move 1 step in any direction (including diagonally), edit env, update energy\n",
    "    def move(self, x_move, y_move):\n",
    "        # if boid is dead, dont move\n",
    "        if self.status_ == 'dead':\n",
    "            return\n",
    "        \n",
    "        # delete initial position of boid\n",
    "        env[self.location_[0], self.location_[1]] = 0\n",
    "        \n",
    "        # energy cost when moving/not moving\n",
    "        if x_move == 0 and y_move == 0:\n",
    "            self.energy_change(-1)\n",
    "        else:\n",
    "            self.energy_change(-2)\n",
    "        \n",
    "        # move boid 1 step (and check if food is on target coor)\n",
    "        self.simple_move(x_move, y_move)\n",
    "        \n",
    "        # mark new position if not dead\n",
    "        if self.status_ != 'dead':\n",
    "            env[self.location_[0], self.location_[1]] += 5\n",
    "        \n",
    "    \n",
    "    # functions that determine what the boid can do\n",
    "    def eat(self):\n",
    "        env[self.location_[0], self.location_[1]] -= 1\n",
    "        self.energy_ += 20\n",
    "        self.food_eaten_ += 1\n",
    "        \n",
    "        \n",
    "    def die(self):\n",
    "        # delete boid from env\n",
    "        env[self.location_[0], self.location_[1]] = 0\n",
    "        # print death alert\n",
    "        print(str(self.name_) + ' has died!')\n",
    "        self.status_ = 'dead'\n",
    "        self.energy_ = 0\n",
    "    \n",
    "    \n",
    "    def energy_change(self, energy_amount):\n",
    "        self.energy_ += energy_amount\n",
    "        # check if energy has run out, if no energy then boid dies \n",
    "        if self.energy_ <= 0:\n",
    "            self.die()\n",
    "    \n",
    "    # function to get info from boid\n",
    "    def display_info(self):\n",
    "        name_str = str(self.name_) + ': '\n",
    "        energy_str = 'Energy-' + str(self.energy_) + ' '\n",
    "        status_str = 'Status-' + str(self.status_) + ' '\n",
    "        food_str = 'Food-' + str(self.food_eaten_)\n",
    "        return name_str + energy_str + food_str\n"
   ]
  },
  {
   "cell_type": "markdown",
   "metadata": {},
   "source": [
    "## Test"
   ]
  },
  {
   "cell_type": "code",
   "execution_count": 47,
   "metadata": {},
   "outputs": [],
   "source": [
    "# cost function: based on energy\n",
    "energy = 80\n",
    "cost = energy\n",
    "\n",
    "brain = keras.Sequential([\n",
    "    keras.layers.Input((1)),\n",
    "    keras.layers.Dense(3),\n",
    "    keras.layers.Dense(3),\n",
    "    keras.layers.Dense(2)\n",
    "])\n",
    "\n"
   ]
  },
  {
   "cell_type": "code",
   "execution_count": null,
   "metadata": {},
   "outputs": [],
   "source": [
    "class TestBrain:\n",
    "    def __init__(self):\n",
    "        self.brain = keras.Sequential([\n",
    "            keras.layers.Input((1,)),\n",
    "            keras.layers.Dense(3, activation='relu'),\n",
    "            keras.layers.Dense(3, activation='relu'),\n",
    "            keras.layers.Dense(2, activation='sigmoid')\n",
    "        ])\n",
    "        \n",
    "    def use_brain(self):\n",
    "          "
   ]
  },
  {
   "cell_type": "code",
   "execution_count": null,
   "metadata": {},
   "outputs": [],
   "source": [
    "# model\n",
    "test_brain = TestBrain()\n",
    "for _ in range(10):\n",
    "    action = test_brain.use_brain()\n",
    "    if action = [0, 0]:\n",
    "        reward = 1\n",
    "    else:\n",
    "        reward = 0\n",
    "    test_brain.train_brain()"
   ]
  }
 ],
 "metadata": {
  "kernelspec": {
   "display_name": "tensor",
   "language": "python",
   "name": "tensor"
  },
  "language_info": {
   "codemirror_mode": {
    "name": "ipython",
    "version": 3
   },
   "file_extension": ".py",
   "mimetype": "text/x-python",
   "name": "python",
   "nbconvert_exporter": "python",
   "pygments_lexer": "ipython3",
   "version": "3.6.12"
  }
 },
 "nbformat": 4,
 "nbformat_minor": 4
}
