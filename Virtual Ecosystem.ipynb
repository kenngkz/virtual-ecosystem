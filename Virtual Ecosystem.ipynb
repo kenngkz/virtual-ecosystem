{
 "cells": [
  {
   "cell_type": "markdown",
   "metadata": {},
   "source": [
    "# Virtual Ecosystem with Boids"
   ]
  },
  {
   "cell_type": "code",
   "execution_count": 1,
   "metadata": {},
   "outputs": [],
   "source": [
    "import numpy as np\n",
    "import matplotlib.pyplot as plt\n",
    "import tensorflow as tf\n",
    "import pandas as pd\n",
    "import time\n",
    "import random\n",
    "import sys\n",
    "\n",
    "from math import copysign # used to generate sign of integer (1 or -1)\n",
    "from IPython.display import clear_output # allows jupyter to clear output using code\n",
    "\n",
    "np.set_printoptions(linewidth=500)\n",
    "\n",
    "pd.set_option('display.max_rows', 500)\n",
    "pd.set_option('display.max_columns', 500)\n",
    "\n",
    "np.set_printoptions(threshold=sys.maxsize) # allows jupyter to show full numpy array\n",
    "\n",
    "%matplotlib inline"
   ]
  },
  {
   "cell_type": "markdown",
   "metadata": {},
   "source": [
    "## Essential Functions"
   ]
  },
  {
   "cell_type": "code",
   "execution_count": 2,
   "metadata": {},
   "outputs": [],
   "source": [
    "# Function to create empty environment\n",
    "def create_env(width, height):\n",
    "    return np.zeros((width, height))"
   ]
  },
  {
   "cell_type": "code",
   "execution_count": 57,
   "metadata": {},
   "outputs": [],
   "source": [
    "# Function to display environment frame by frame\n",
    "# includes option to display frame counter to observe amount of time passed\n",
    "# any text to be shown below frame must be passed into this function (this function is the last thing in the loop) \n",
    "\n",
    "def display_env_frame(env, delay, str_below=None, display_size = [7, 7]): # delay is the number of seconds previous frame stays visible\n",
    "    # print frame counter\n",
    "    try:\n",
    "        global frame_num\n",
    "        frame_num += 1\n",
    "        print('Frame number: ', frame_num)\n",
    "    except:\n",
    "        pass\n",
    "    \n",
    "    # display frame\n",
    "    fig, ax = plt.subplots(figsize=(display_size[0], display_size[1]))\n",
    "    ax.set_axis_off()\n",
    "    ax.matshow(env.T, origin='lower')\n",
    "    plt.pause(0.001)\n",
    "    \n",
    "    # print string below if str_below is string\n",
    "    if type(str_below) == str:\n",
    "        print(str_below)\n",
    "    \n",
    "    # wait\n",
    "    time.sleep(delay)\n",
    "    \n",
    "    return str_below\n"
   ]
  },
  {
   "cell_type": "code",
   "execution_count": 4,
   "metadata": {},
   "outputs": [],
   "source": [
    "# Function to clear output (doesn't seem to work with Jupyter Notebook, might work with console)\n",
    "from os import system, name \n",
    "  \n",
    "# import sleep to show output for some time period \n",
    "from time import sleep \n",
    "  \n",
    "# define our clear function \n",
    "def clear(): \n",
    "  \n",
    "    # for windows \n",
    "    if name == 'nt': \n",
    "        _ = system('cls') \n",
    "  \n",
    "    # for mac and linux(here, os.name is 'posix') \n",
    "    else: \n",
    "        _ = system('clear')"
   ]
  },
  {
   "cell_type": "markdown",
   "metadata": {},
   "source": [
    "## Setting up Environment with Food"
   ]
  },
  {
   "cell_type": "code",
   "execution_count": null,
   "metadata": {
    "lineWrapping": false
   },
   "outputs": [],
   "source": [
    "# Visualize adding food randomly to environment\n",
    "# food represented by 1 in env array\n",
    "\n",
    "# variables\n",
    "env_width = 40\n",
    "env_height = 40\n",
    "frame_delay = 0.5 # time between frames\n",
    "num_food = 10\n",
    "food_value = 1\n",
    "\n",
    "# initilize environment\n",
    "env = create_env(env_width, env_height)\n",
    "# display initial state of env\n",
    "display_env_frame(env, frame_delay)\n",
    "\n",
    "# generate food in iterations and displays the food being added to env\n",
    "while np.sum(env) / food_value < num_food:\n",
    "    food_x_coor = random.randint(0, env_width - 1)\n",
    "    food_y_coor = random.randint(0, env_height - 1)\n",
    "    if env[food_x_coor][food_y_coor] == 0:\n",
    "        env[food_x_coor][food_y_coor] = food_value\n",
    "    else:\n",
    "        continue\n",
    "    display_env_frame(env, frame_delay)"
   ]
  },
  {
   "cell_type": "code",
   "execution_count": 18,
   "metadata": {},
   "outputs": [],
   "source": [
    "# Function to add food to environment without displaying environment\n",
    "def add_food(env, num_food, food_value=1):\n",
    "    food_counter = 0\n",
    "    while food_counter < num_food:\n",
    "        food_x_coor = random.randint(0, env_width - 1)\n",
    "        food_y_coor = random.randint(0, env_height - 1)\n",
    "        if env[food_x_coor][food_y_coor] == 0:\n",
    "            env[food_x_coor][food_y_coor] = food_value\n",
    "            food_counter += 1\n",
    "        else:\n",
    "            continue\n",
    "    return env"
   ]
  },
  {
   "cell_type": "markdown",
   "metadata": {},
   "source": [
    "## Creating A Boid"
   ]
  },
  {
   "cell_type": "code",
   "execution_count": 79,
   "metadata": {},
   "outputs": [],
   "source": [
    "# Animal: Boid\n",
    "class SimpleBoid:\n",
    "    \n",
    "    def __init__(self, name_):\n",
    "        self.name_ = name_ # set a name == var name\n",
    "        self.location_ = [random.randint(0, env.shape[0] - 1), random.randint(0, env.shape[1] - 1)]\n",
    "        self.energy_ = 100\n",
    "        self.death_msg_ = str(self.name_) + ' has died!'\n",
    "        # mark boid starting location in env\n",
    "        env[self.location_[0], self.location_[1]] = 5\n",
    "        \n",
    "    def set_location(self, x_coor, y_coor):\n",
    "        env[self.location_[0], self.location_[1]] = 0\n",
    "        self.location_ = [x_coor, y_coor]\n",
    "        env[self.location_[0], self.location_[1]] = 5\n",
    "    \n",
    "    # check if postion of boid exceeds env range and loops to the opposite side of env if boid is outside env\n",
    "    def env_edge_loop(self, axis):\n",
    "        # axis = 0 for x_axis, axis = 1 for y_axis\n",
    "        \n",
    "        # env limits\n",
    "        max_env_coor = [env_width, env_height]\n",
    "        \n",
    "        # check if location of boid and loop if boid exceeds env limits\n",
    "        if self.location_[axis] == max_env_coor[axis]:\n",
    "            self.location_[axis] = 0\n",
    "        elif self.location_[axis] == -1:\n",
    "            self.location_[axis] = max_env_coor[axis] - 1\n",
    "    \n",
    "    \n",
    "    # move 1 step in any direction (including diagonally), check edge, check food\n",
    "    def simple_move(self, x_move, y_move):        \n",
    "        # move boid\n",
    "        self.location_[0] += int(x_move)\n",
    "        self.location_[1] += int(y_move)\n",
    "        # check if passed edge\n",
    "        self.env_edge_loop(0)\n",
    "        self.env_edge_loop(1)\n",
    "        \n",
    "        # food check\n",
    "        if env[self.location_[0], self.location_[1]] == 1:\n",
    "            self.eat()\n",
    "            \n",
    "            \n",
    "    # move 1 step in any direction (including diagonally), edit env, update energy\n",
    "    def move(self, x_move, y_move):\n",
    "        # if boid is dead, dont move\n",
    "        if self.name_ == 'dead':\n",
    "            return\n",
    "        \n",
    "        # delete initial position of boid\n",
    "        env[self.location_[0], self.location_[1]] = 0\n",
    "        \n",
    "        # energy cost when moving/not moving\n",
    "        if x_move == 0 and y_move == 0:\n",
    "            self.energy_change(-1)\n",
    "        else:\n",
    "            self.energy_change(-2)\n",
    "        \n",
    "        # move boid 1 step\n",
    "        self.simple_move(x_move, y_move)\n",
    "        \n",
    "        # mark new position if not dead\n",
    "        if self.name_ != 'dead':\n",
    "            env[self.location_[0], self.location_[1]] += 5\n",
    "        \n",
    "        # if 2 boids end up at the same location, collide\n",
    "        if env[self.location_[0], self.location_[1]] > 5:\n",
    "            self.collide()\n",
    "    \n",
    "    \n",
    "    def eat(self):\n",
    "        env[self.location_[0], self.location_[1]] -= 1\n",
    "        self.energy_ += 20\n",
    "        \n",
    "        \n",
    "    def die(self):\n",
    "        # delete boid from env\n",
    "        env[self.location_[0], self.location_[1]] = 0\n",
    "        # print death alert\n",
    "        print(self.death_msg_)\n",
    "        self.name_ = 'dead'\n",
    "    \n",
    "    \n",
    "    def energy_change(self, energy_amount):\n",
    "        self.energy_ += energy_amount\n",
    "        # check if energy has run out, if no energy then boid dies \n",
    "        if self.energy_ <= 0:\n",
    "            self.die()\n",
    "    \n",
    "    \n",
    "    def display_energy(self):\n",
    "        return str(self.name_) + ' has ' + str(self.energy_) + ' energy'\n",
    "    \n",
    "        \n",
    "    # check status after every period before display\n",
    "    def check_status(self):\n",
    "        # if 2 boid stand on the same pixel, both boids will die\n",
    "        if env[self.location_[0], self.location_[1]] > 5:\n",
    "            self.die()"
   ]
  },
  {
   "cell_type": "code",
   "execution_count": null,
   "metadata": {},
   "outputs": [],
   "source": [
    "# Movement checks\n",
    "\n",
    "# reset env\n",
    "env_width = env_height = 40\n",
    "env = create_env(env_width, env_height)\n",
    "\n",
    "x_coor = y_coor = range(-1, 2)\n",
    "movement_coor = []\n",
    "for x in x_coor:\n",
    "    for y in y_coor:\n",
    "        movement_coor.append([x, y])\n",
    "\n",
    "# initialize boid\n",
    "boid2 = SimpleBoid('boid2')\n",
    "# set boid attr\n",
    "boid2.energy_ = 1000\n",
    "boid2.set_location(30, 30)\n",
    "display_env_frame(env, 0.1)\n",
    "\n",
    "for coor in movement_coor:\n",
    "    for _ in range(5):\n",
    "        boid2.move(coor[0], coor[1])\n",
    "        display_above = 'Movement coor: ' + str(coor)\n",
    "        display_env_frame(env, 0.6, str_above=display_above)\n",
    "        if boid2.name_ == 'dead':\n",
    "            break\n",
    "    if boid2.name_ == 'dead':\n",
    "        break"
   ]
  },
  {
   "cell_type": "markdown",
   "metadata": {},
   "source": [
    "## Make a Boid Move Randomly in Environment with Food"
   ]
  },
  {
   "cell_type": "code",
   "execution_count": 53,
   "metadata": {},
   "outputs": [],
   "source": [
    "# Define function for boid to move randomly in a similar pattern as 'move_random()'\n",
    "# this functions makes the boid move 1 step\n",
    "# previous path takes priority, if no path is available (num_steps = 0), then new path is generated\n",
    "\n",
    "# path = [x_direction, y_direction, path_num_steps]\n",
    "\n",
    "def move_random_path(boid, path, display=True, max_num_steps=5, delay=1):\n",
    "    if path == None:\n",
    "        return None\n",
    "    \n",
    "    if path[2] == 0:\n",
    "        x_direction = random.randint(-1, 1)\n",
    "        y_direction = random.randint(-1, 1)\n",
    "        num_steps = random.randint(1 , max_num_steps)\n",
    "        path = [x_direction, y_direction, num_steps]\n",
    "        \n",
    "    boid.move(path[0], path[1])\n",
    "    if boid.name_ == 'dead':\n",
    "        return None\n",
    "    \n",
    "    path[2] -= 1\n",
    "    if display:\n",
    "        display_above = 'Direction: ' + str([path[0], path[1]]) + '\\nSteps Remaining: ' + str(path[2]) + '\\nBoid Energy: ' + str(boid.energy_)\n",
    "        print(display_above)\n",
    "    \n",
    "    return path"
   ]
  },
  {
   "cell_type": "code",
   "execution_count": 40,
   "metadata": {},
   "outputs": [
    {
     "name": "stdout",
     "output_type": "stream",
     "text": [
      "boid1 has died!\n",
      "Frame number:  77\n"
     ]
    },
    {
     "data": {
      "image/png": "[encoded data removed]",
      "text/plain": [
       "<Figure size 504x504 with 1 Axes>"
      ]
     },
     "metadata": {
      "needs_background": "light"
     },
     "output_type": "display_data"
    }
   ],
   "source": [
    "# variables\n",
    "env_width = env_height = 40\n",
    "frame_num = 0 # frame counter\n",
    "frame_delay = 0.8\n",
    "max_steps = 3 # max steps in any 1 direction\n",
    "max_periods = 100 # max number of periods\n",
    "num_food = 20\n",
    "path = [0, 0, 0] # starting path (do not change)\n",
    "\n",
    "# initialize env\n",
    "env = create_env(env_width, env_height)\n",
    "\n",
    "# add food\n",
    "env = add_food(env, num_food)\n",
    "\n",
    "# initialize boid\n",
    "boid1 = SimpleBoid('boid1')\n",
    "\n",
    "# display boid and food\n",
    "print('Boid Energy: ' + str(boid1.energy_))\n",
    "display_env_frame(env, 2)\n",
    "clear_output(wait=True)\n",
    "\n",
    "while frame_num < max_periods:\n",
    "    \n",
    "    if frame_num % 20 == 0:\n",
    "        env = add_food(env, num_food)\n",
    "    path = move_random_path(boid1, path)\n",
    "    display_env_frame(env, frame_delay)\n",
    "    if boid1.name_ == 'dead':\n",
    "        break\n",
    "    clear_output(wait=True)"
   ]
  },
  {
   "cell_type": "markdown",
   "metadata": {},
   "source": [
    "## Multiple Boids Moving Randomly in Environment with Food"
   ]
  },
  {
   "cell_type": "code",
   "execution_count": 80,
   "metadata": {},
   "outputs": [
    {
     "name": "stdout",
     "output_type": "stream",
     "text": [
      "boid1\n",
      "dead\n",
      "Frame number:  147\n"
     ]
    },
    {
     "data": {
      "image/png": "[encoded data removed]",
      "text/plain": [
       "<Figure size 360x360 with 1 Axes>"
      ]
     },
     "metadata": {
      "needs_background": "light"
     },
     "output_type": "display_data"
    }
   ],
   "source": [
    "# Test collision\n",
    "env = create_env(20, 20)\n",
    "display_size = [5, 5]\n",
    "\n",
    "boid1 = SimpleBoid('boid1')\n",
    "boid2 = SimpleBoid('boid2')\n",
    "boid3 = SimpleBoid('boid3')\n",
    "\n",
    "boid1.set_location(10, 10)\n",
    "boid2.set_location(10,14)\n",
    "boid3.set_location(5, 5)\n",
    "\n",
    "display_env_frame(env, 3, display_size=display_size)\n",
    "clear_output(wait=True)\n",
    "\n",
    "for _ in range(6):\n",
    "    boid2.move(0, -1)\n",
    "    print(boid1.name_)\n",
    "    print(boid2.name_)\n",
    "    display_env_frame(env, 1, display_size=display_size)\n",
    "    clear_output(wait=True)\n",
    "\n"
   ]
  },
  {
   "cell_type": "code",
   "execution_count": 78,
   "metadata": {},
   "outputs": [
    {
     "data": {
      "text/plain": [
       "[10, 8]"
      ]
     },
     "execution_count": 78,
     "metadata": {},
     "output_type": "execute_result"
    }
   ],
   "source": [
    "boid2.location_"
   ]
  },
  {
   "cell_type": "code",
   "execution_count": 56,
   "metadata": {},
   "outputs": [
    {
     "name": "stdout",
     "output_type": "stream",
     "text": [
      "boid1 has died!\n",
      "Frame number:  89\n"
     ]
    },
    {
     "data": {
      "image/png": "[encoded data removed]",
      "text/plain": [
       "<Figure size 504x504 with 1 Axes>"
      ]
     },
     "metadata": {
      "needs_background": "light"
     },
     "output_type": "display_data"
    }
   ],
   "source": [
    "# variables\n",
    "env_width = env_height = 40\n",
    "frame_num = 0 # frame counter\n",
    "frame_delay = 0.8\n",
    "max_steps = 3 # max steps in any 1 direction\n",
    "max_periods = 100 # max number of periods\n",
    "num_food = 20\n",
    "num_boids = 20\n",
    "paths = [[0, 0, 0] for _ in range(num_boids)] # starting path (do not change)\n",
    "\n",
    "# initialize env\n",
    "env = create_env(env_width, env_height)\n",
    "\n",
    "# add food\n",
    "env = add_food(env, num_food)\n",
    "\n",
    "# initialize boids\n",
    "boids = [SimpleBoid('boid' + str(x)) for x in range(1, num_boids+1)]\n",
    "\n",
    "# display boids and food\n",
    "display_env_frame(env, 3)\n",
    "clear_output(wait=True)\n",
    "\n",
    "while frame_num < max_periods:\n",
    "    \n",
    "    if frame_num % 20 == 0:\n",
    "        env = add_food(env, num_food)\n",
    "    paths = [move_random_path(boids[x], paths[x], display=False) for x in range(num_boids)]\n",
    "    display_env_frame(env, frame_delay)\n",
    "    if all([path == None for path in paths]):\n",
    "        break\n",
    "    clear_output(wait=True)"
   ]
  },
  {
   "cell_type": "code",
   "execution_count": 60,
   "metadata": {},
   "outputs": [
    {
     "data": {
      "text/plain": [
       "(20, 30)"
      ]
     },
     "execution_count": 60,
     "metadata": {},
     "output_type": "execute_result"
    }
   ],
   "source": [
    "env = create_env(20, 30)\n",
    "env.shape"
   ]
  }
 ],
 "metadata": {
  "kernelspec": {
   "display_name": "tensor",
   "language": "python",
   "name": "tensor"
  },
  "language_info": {
   "codemirror_mode": {
    "name": "ipython",
    "version": 3
   },
   "file_extension": ".py",
   "mimetype": "text/x-python",
   "name": "python",
   "nbconvert_exporter": "python",
   "pygments_lexer": "ipython3",
   "version": "3.7.9"
  }
 },
 "nbformat": 4,
 "nbformat_minor": 4
}
